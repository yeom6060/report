{
  "nbformat": 4,
  "nbformat_minor": 0,
  "metadata": {
    "colab": {
      "name": "Untitled0.ipynb",
      "provenance": [],
      "collapsed_sections": [],
      "authorship_tag": "ABX9TyMBaqORRXzD8Lqf7PlxC78P",
      "include_colab_link": true
    },
    "kernelspec": {
      "name": "python3",
      "display_name": "Python 3"
    },
    "language_info": {
      "name": "python"
    }
  },
  "cells": [
    {
      "cell_type": "markdown",
      "metadata": {
        "id": "view-in-github",
        "colab_type": "text"
      },
      "source": [
        "<a href=\"https://colab.research.google.com/github/yeom6060/report/blob/main/Untitled0.ipynb\" target=\"_parent\"><img src=\"https://colab.research.google.com/assets/colab-badge.svg\" alt=\"Open In Colab\"/></a>"
      ]
    },
    {
      "cell_type": "code",
      "execution_count": 1,
      "metadata": {
        "colab": {
          "base_uri": "https://localhost:8080/"
        },
        "id": "LWcX_XOwx7t7",
        "outputId": "187cf7e9-5ced-4abd-a8df-2320b36c53e7"
      },
      "outputs": [
        {
          "output_type": "stream",
          "name": "stdout",
          "text": [
            "3개의 정수값을 입력하시오\n",
            "n1의 정수값을 입력:1 1\n",
            "n1의 정수값을 입력:2 2\n",
            "n1의 정수값을 입력:3 3\n",
            "2.0\n"
          ]
        }
      ],
      "source": [
        "print(\"3개의 정수값을 입력하시오\")\n",
        "n1 = int(input(\"n1의 정수값을 입력:1 \"))\n",
        "n2 = int(input(\"n1의 정수값을 입력:2 \"))\n",
        "n3 = int(input(\"n1의 정수값을 입력:3 \"))\n",
        "\n",
        "total = n1 + n2 + n3;\n",
        "average = total /3 ;\n",
        "print(average)"
      ]
    },
    {
      "cell_type": "code",
      "source": [
        "import math\n",
        "#from math import sqrt \n",
        "print(\"'a, b, c' 3개의 값을 입력하시오\")\n",
        "a = int(input(\"Enter the a:1 \")) \n",
        "b = int(input(\"Enter the b:2 \")) \n",
        "c = int(input(\"Enter the c:3 \")) \n",
        "\n",
        "d = math.sqrt(b*b) - (4*a*c); \n",
        "#d = sqrt(b*b) - (4*a*c); \n",
        "x1 = (-b+d) / (2 * a);\n",
        "x2 = (-b-d) / (2 * a);\n",
        "print(x1, x2)"
      ],
      "metadata": {
        "colab": {
          "base_uri": "https://localhost:8080/"
        },
        "id": "3CFK8HOX4bz_",
        "outputId": "f186f114-d925-4d06-cf82-74aa3825df8e"
      },
      "execution_count": 2,
      "outputs": [
        {
          "output_type": "stream",
          "name": "stdout",
          "text": [
            "'a, b, c' 3개의 값을 입력하시오\n",
            "Enter the a:1 1\n",
            "Enter the b:2 2\n",
            "Enter the c:3 3\n",
            "-6.0 4.0\n"
          ]
        }
      ]
    },
    {
      "cell_type": "code",
      "source": [
        "import math\n",
        "\n",
        "# 근의공식 구하기\n",
        "a = int(input(\"a의 값을 입력하세요: \"))\n",
        "b = int(input(\"b의 값을 입력하세요: \"))\n",
        "c = int(input(\"c의 값을 입력하세요: \"))\n",
        "\n",
        "x1 = ( (-b + (math.sqrt(math.pow(b,2) - 4 * a * c)))/2 * a)\n",
        "x2 = ( (-b - (math.sqrt(math.pow(b,2) - 4 * a * c)))/2 * a)\n",
        "\n",
        "print(\"x1 = \" , x1)\n",
        "print(\"x2 = \" , x2)"
      ],
      "metadata": {
        "colab": {
          "base_uri": "https://localhost:8080/"
        },
        "id": "q8UddD7v57iH",
        "outputId": "65e437bd-5622-4cdd-e35b-560d1803a8f3"
      },
      "execution_count": 8,
      "outputs": [
        {
          "output_type": "stream",
          "name": "stdout",
          "text": [
            "a의 값을 입력하세요: 5\n",
            "b의 값을 입력하세요: 2\n",
            "c의 값을 입력하세요: 0\n",
            "x1 =  0.0\n",
            "x2 =  -10.0\n"
          ]
        }
      ]
    },
    {
      "cell_type": "code",
      "source": [
        "total = 0 \n",
        "counter = 1 \n",
        "while counter <= 10:\n",
        "    grade=int(input (\"Enter grade: \"))\n",
        "    total = grade + total\n",
        "    counter = counter + 1\n",
        "average = total / 10\n",
        "print(average)"
      ],
      "metadata": {
        "colab": {
          "base_uri": "https://localhost:8080/"
        },
        "id": "DGx-ecqn8pnf",
        "outputId": "b299d5b1-d58f-4ae3-a08a-eb53ecee6d59"
      },
      "execution_count": 12,
      "outputs": [
        {
          "output_type": "stream",
          "name": "stdout",
          "text": [
            "Enter grade: 10\n",
            "Enter grade: 9\n",
            "Enter grade: 8\n",
            "Enter grade: 7\n",
            "Enter grade: 6\n",
            "Enter grade: 5\n",
            "Enter grade: 4\n",
            "Enter grade: 3\n",
            "Enter grade: 2\n",
            "Enter grade: 1\n",
            "5.5\n"
          ]
        }
      ]
    },
    {
      "cell_type": "code",
      "source": [
        "total = 0\n",
        "counter = 1\n",
        "while counter <= 10:\n",
        "    grad = int(input (\"Enter grade: \"))\n",
        "    total = grade + total\n",
        "    counter = counter + 1\n",
        "average = total / 10\n",
        "print(average)"
      ],
      "metadata": {
        "colab": {
          "base_uri": "https://localhost:8080/"
        },
        "id": "brFkjC2V95Ff",
        "outputId": "e55693f6-3a53-41d1-a19c-cab5b206205c"
      },
      "execution_count": 16,
      "outputs": [
        {
          "output_type": "stream",
          "name": "stdout",
          "text": [
            "Enter grade: 1\n",
            "Enter grade: 2\n",
            "Enter grade: 3\n",
            "Enter grade: 4\n",
            "Enter grade: 5\n",
            "Enter grade: 6\n",
            "Enter grade: 7\n",
            "Enter grade: 8\n",
            "Enter grade: 9\n",
            "Enter grade: 10\n",
            "1.0\n"
          ]
        }
      ]
    },
    {
      "cell_type": "code",
      "source": [
        "print(\"3개의 값을 입력하시오\")\n",
        "x = int(input(\"Enter the x: \"))\n",
        "y = int(input(\"Enter the y: \"))\n",
        "z = int(input(\"Enter the z: \"))\n",
        "x = x + 1\n",
        "y = y + 1\n",
        "z = z + 1\n",
        "print(\"변경된 값 : \", x, y, z)"
      ],
      "metadata": {
        "colab": {
          "base_uri": "https://localhost:8080/"
        },
        "id": "syyZhMI1_VPQ",
        "outputId": "12f41d68-d2e3-406a-ed18-3f81ca99e5df"
      },
      "execution_count": 17,
      "outputs": [
        {
          "output_type": "stream",
          "name": "stdout",
          "text": [
            "3개의 값을 입력하시오\n",
            "Enter the x: 1\n",
            "Enter the y: 2\n",
            "Enter the z: 3\n",
            "변경된 값 :  2 3 4\n"
          ]
        }
      ]
    },
    {
      "cell_type": "code",
      "source": [
        "a = 10\n",
        "b = 8750\n",
        "c = a * b\n",
        "print(c)"
      ],
      "metadata": {
        "colab": {
          "base_uri": "https://localhost:8080/"
        },
        "id": "0UFmuTCx_zsk",
        "outputId": "f6007341-18f3-4d4e-8d2c-6ea7666dba35"
      },
      "execution_count": 18,
      "outputs": [
        {
          "output_type": "stream",
          "name": "stdout",
          "text": [
            "87500\n"
          ]
        }
      ]
    },
    {
      "cell_type": "code",
      "source": [
        "pay_rate = 8750\n",
        "hours_worked = int(input(\"일을 한 전체 시간입력하세요!: \" ))\n",
        "monthly_pay = hours_worked * pay_rate\n",
        "print(monthly_pay)"
      ],
      "metadata": {
        "colab": {
          "base_uri": "https://localhost:8080/"
        },
        "id": "VDChs4C9_8r9",
        "outputId": "355ffb0a-9409-4694-8cd3-2a64db33bb29"
      },
      "execution_count": 19,
      "outputs": [
        {
          "output_type": "stream",
          "name": "stdout",
          "text": [
            "일을 한 전체 시간입력하세요!: 1\n",
            "8750\n"
          ]
        }
      ]
    },
    {
      "cell_type": "code",
      "source": [
        "won = 100000\n",
        "usd = won * 1130\n",
        "print(usd)"
      ],
      "metadata": {
        "colab": {
          "base_uri": "https://localhost:8080/"
        },
        "id": "vkIdd1dSAIO_",
        "outputId": "645f5829-d365-4620-eab0-0779aff90dbc"
      },
      "execution_count": 20,
      "outputs": [
        {
          "output_type": "stream",
          "name": "stdout",
          "text": [
            "113000000\n"
          ]
        }
      ]
    },
    {
      "cell_type": "code",
      "source": [
        "exchange_rate = int(input(\"현재 환율입력: \"))\n",
        "won = 100000\n",
        "usd = won * exchange_rate\n",
        "print(usd)"
      ],
      "metadata": {
        "colab": {
          "base_uri": "https://localhost:8080/"
        },
        "id": "7gJEpI3WAQ9d",
        "outputId": "8c3bdab0-3154-49a0-9dd9-f641afe92554"
      },
      "execution_count": 21,
      "outputs": [
        {
          "output_type": "stream",
          "name": "stdout",
          "text": [
            "현재 환율입력: 1\n",
            "100000\n"
          ]
        }
      ]
    },
    {
      "cell_type": "code",
      "source": [
        "fahrenheit = 100\n",
        "celsius = fahrenheit-32\n",
        "celsius = celsius * 5\n",
        "celsius = celsius/9\n",
        "print(celsius)"
      ],
      "metadata": {
        "colab": {
          "base_uri": "https://localhost:8080/"
        },
        "id": "p2s5s6mzAcWN",
        "outputId": "ef0b6c47-7c54-4873-a266-7d37c6252974"
      },
      "execution_count": 22,
      "outputs": [
        {
          "output_type": "stream",
          "name": "stdout",
          "text": [
            "37.77777777777778\n"
          ]
        }
      ]
    },
    {
      "cell_type": "code",
      "source": [
        "x = 0\n",
        "y = 0\n",
        "x = int(input(\"정수 x를 입력하시오: \"))\n",
        "y = int(input(\"정수 y를 입력하시오: \"))\n",
        "sum = x + y\n",
        "print(sum)"
      ],
      "metadata": {
        "colab": {
          "base_uri": "https://localhost:8080/"
        },
        "id": "Np_T6RP-Amt4",
        "outputId": "afec3ea3-3536-4275-d5a4-b3c250432b08"
      },
      "execution_count": 23,
      "outputs": [
        {
          "output_type": "stream",
          "name": "stdout",
          "text": [
            "정수 x를 입력하시오: 1\n",
            "정수 y를 입력하시오: 2\n",
            "3\n"
          ]
        }
      ]
    },
    {
      "cell_type": "code",
      "source": [
        "price = int(input(\"상품의 가격을 입력하시오: \"))\n",
        "vat = price * 0.1\n",
        "print(vat)"
      ],
      "metadata": {
        "colab": {
          "base_uri": "https://localhost:8080/"
        },
        "id": "uQxMfe2WA5OW",
        "outputId": "4939f426-4af5-47a2-b25a-fa1db92c51ea"
      },
      "execution_count": 24,
      "outputs": [
        {
          "output_type": "stream",
          "name": "stdout",
          "text": [
            "상품의 가격을 입력하시오: 1\n",
            "0.1\n"
          ]
        }
      ]
    },
    {
      "cell_type": "code",
      "source": [
        "age = int(input(\"현재 나이를 입력하시오.: \"))\n",
        "age = age + 10\n",
        "print(\"10년후면\", age, \" 세가 되시는 군요\")"
      ],
      "metadata": {
        "colab": {
          "base_uri": "https://localhost:8080/"
        },
        "id": "-nsxpftXBD1R",
        "outputId": "65073c9b-d93b-40c2-c29c-6f1827c63134"
      },
      "execution_count": 25,
      "outputs": [
        {
          "output_type": "stream",
          "name": "stdout",
          "text": [
            "현재 나이를 입력하시오.: 1\n",
            "10년후면 11  세가 되시는 군요\n"
          ]
        }
      ]
    },
    {
      "cell_type": "code",
      "source": [
        "print(\"########################\")\n",
        "print(\"# 배송료 계산 프로그램 #\")\n",
        "print(\"########################\")\n",
        "price= int(input(\"상품의 가격을 입력하세요: \"))\n",
        "if price > 2000:\n",
        "    shipping_cost = 0\n",
        "else:\n",
        "    shipping_cost = 3000\n",
        "print(shipping_cost)"
      ],
      "metadata": {
        "colab": {
          "base_uri": "https://localhost:8080/"
        },
        "id": "vZVNAETSBLZR",
        "outputId": "74fb85b4-be25-43d6-fea3-d1a51bef6715"
      },
      "execution_count": 26,
      "outputs": [
        {
          "output_type": "stream",
          "name": "stdout",
          "text": [
            "########################\n",
            "# 배송료 계산 프로그램 #\n",
            "########################\n",
            "상품의 가격을 입력하세요: 1\n",
            "3000\n"
          ]
        }
      ]
    },
    {
      "cell_type": "code",
      "source": [
        "print(\"########################\")\n",
        "print(\"# 합격 불합격 프로그램 #\")\n",
        "print(\"########################\")\n",
        "\n",
        "grade = int(input(\"성적을 입력하시오.: \"))\n",
        "if grade >= 60 :\n",
        "    print(\"합격\")\n",
        "else :\n",
        "    print(\"불합격\")"
      ],
      "metadata": {
        "colab": {
          "base_uri": "https://localhost:8080/"
        },
        "id": "Dkd_rj9DB3wD",
        "outputId": "66ad48f3-e48e-43d9-d219-d1d8d312def4"
      },
      "execution_count": 27,
      "outputs": [
        {
          "output_type": "stream",
          "name": "stdout",
          "text": [
            "########################\n",
            "# 합격 불합격 프로그램 #\n",
            "########################\n",
            "성적을 입력하시오.: 1\n",
            "불합격\n"
          ]
        }
      ]
    },
    {
      "cell_type": "code",
      "source": [
        "print(\"근무 시간을 입력하시오\")\n",
        "work_hour=int(input(\"근무시간 입력: \"))\n",
        "\n",
        "if work_hour > 72 :\n",
        "   print(\"초과근무 하셨습니다.\")\n",
        "else: \n",
        "    print(\"정상근무하셨습니다.\")"
      ],
      "metadata": {
        "colab": {
          "base_uri": "https://localhost:8080/"
        },
        "id": "XUPv_xGsCQH7",
        "outputId": "0e8ed71f-3603-4150-e651-d2f35bf21571"
      },
      "execution_count": 28,
      "outputs": [
        {
          "output_type": "stream",
          "name": "stdout",
          "text": [
            "근무 시간을 입력하시오\n",
            "근무시간 입력: 1\n",
            "정상근무하셨습니다.\n"
          ]
        }
      ]
    },
    {
      "cell_type": "code",
      "source": [
        "print(\"########################\")\n",
        "print(\"# 짝수와 홀수 판별 앱 #\")\n",
        "print(\"########################\")\n",
        "\n",
        "x = int(input(\"x값 정수를 입력하시오: \"))\n",
        "if (x % 2) != 0 :\n",
        "     print(\"홀수입니다.\")\n",
        "else:\n",
        "    print(\"짝수입니다.\")"
      ],
      "metadata": {
        "colab": {
          "base_uri": "https://localhost:8080/"
        },
        "id": "OpWGqLjgCjmd",
        "outputId": "033b4592-b43b-4cd4-d33b-a99d548e76d5"
      },
      "execution_count": 29,
      "outputs": [
        {
          "output_type": "stream",
          "name": "stdout",
          "text": [
            "########################\n",
            "# 짝수와 홀수 판별 앱 #\n",
            "########################\n",
            "x값 정수를 입력하시오: 1\n",
            "홀수입니다.\n"
          ]
        }
      ]
    },
    {
      "cell_type": "code",
      "source": [
        "print(\"정수를 입력하시오.\")\n",
        "x= int(input(\"정수값 x를 입력하시오.: \"))\n",
        "y= int(input(\"정수값 y를 입력하시오.: \"))\n",
        "if x > y :\n",
        "     print(x)\n",
        "else:\n",
        "    print(y)     "
      ],
      "metadata": {
        "colab": {
          "base_uri": "https://localhost:8080/"
        },
        "id": "ILQwNosiC730",
        "outputId": "04033b3d-6e42-43c4-d037-0d335f260993"
      },
      "execution_count": 30,
      "outputs": [
        {
          "output_type": "stream",
          "name": "stdout",
          "text": [
            "정수를 입력하시오.\n",
            "정수값 x를 입력하시오.: 1\n",
            "정수값 y를 입력하시오.: 2\n",
            "2\n"
          ]
        }
      ]
    },
    {
      "cell_type": "code",
      "source": [
        "print(\"########################\")\n",
        "print(\"# 이름, 나이, 답변 앱 #\")\n",
        "print(\"########################\")\n",
        "\n",
        "yu_name = str(input(\"이름: \"))\n",
        "yu_age = int(input(\"나이: \"))\n",
        "\n",
        "if yu_age <= 25 :\n",
        "    print(\"와우!!! 프로그래밍을 완벽하게 배울수 있는 나이입니다.!\")\n",
        "else:\n",
        "     print(\"포기하기에는 아직 늦지 않았습니다.\")\n",
        "print(\"\\n\")"
      ],
      "metadata": {
        "colab": {
          "base_uri": "https://localhost:8080/"
        },
        "id": "3WIABnWkDMgE",
        "outputId": "861c4c2e-94c7-40ee-90ce-351644c35331"
      },
      "execution_count": 31,
      "outputs": [
        {
          "output_type": "stream",
          "name": "stdout",
          "text": [
            "########################\n",
            "# 이름, 나이, 답변 앱 #\n",
            "########################\n",
            "이름: 1\n",
            "나이: 2\n",
            "와우!!! 프로그래밍을 완벽하게 배울수 있는 나이입니다.!\n",
            "\n",
            "\n"
          ]
        }
      ]
    },
    {
      "cell_type": "code",
      "source": [
        "price = int(input(\"상품의 가격을 입력하세요.: \"))\n",
        "\n",
        "if price > 100000:\n",
        "      shipping_cost = 0\n",
        "else:\n",
        "    if price > 2000:\n",
        "        shipping_cost = 3000\n",
        "    else:\n",
        "        shipping_cost = 5000\n",
        "\n",
        "print(\"배송료는\", shipping_cost, \"입니다.\")\n"
      ],
      "metadata": {
        "colab": {
          "base_uri": "https://localhost:8080/"
        },
        "id": "WnPHA53LDwS_",
        "outputId": "083b2965-8426-42eb-8332-c3917c243184"
      },
      "execution_count": 32,
      "outputs": [
        {
          "output_type": "stream",
          "name": "stdout",
          "text": [
            "상품의 가격을 입력하세요.: 1\n",
            "배송료는 5000 입니다.\n"
          ]
        }
      ]
    }
  ]
}